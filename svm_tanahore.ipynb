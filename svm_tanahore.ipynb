{
  "nbformat": 4,
  "nbformat_minor": 0,
  "metadata": {
    "colab": {
      "provenance": []
    },
    "kernelspec": {
      "name": "python3",
      "display_name": "Python 3"
    },
    "language_info": {
      "name": "python"
    }
  },
  "cells": [
    {
      "cell_type": "code",
      "execution_count": null,
      "metadata": {
        "id": "MxEnUzEplsGg",
        "colab": {
          "base_uri": "https://localhost:8080/"
        },
        "outputId": "1c32cf13-9d9d-4beb-d399-3b586d358297"
      },
      "outputs": [
        {
          "output_type": "stream",
          "name": "stdout",
          "text": [
            "Akurasi: 0.7103448275862069\n",
            "Model telah disimpan sebagai svm_model.sav\n"
          ]
        }
      ],
      "source": [
        "import os\n",
        "import cv2\n",
        "import numpy as np\n",
        "from sklearn.model_selection import train_test_split\n",
        "from sklearn.svm import SVC\n",
        "from sklearn.metrics import accuracy_score\n",
        "import joblib\n",
        "\n",
        "# Fungsi untuk memuat gambar dan label\n",
        "def load_images_from_folder(folder, target_size=(100, 100)):\n",
        "    images = []\n",
        "    labels = []\n",
        "    for filename in os.listdir(folder):\n",
        "        path = os.path.join(folder, filename)\n",
        "        img = cv2.imread(path)  # Baca gambar dalam skala abu-abu\n",
        "        if img is not None:\n",
        "            img_resized = cv2.resize(img, target_size)  # Resize gambar ke ukuran target\n",
        "            img_flat = img_resized.flatten()  # Mengubah gambar menjadi array satu dimensi\n",
        "            images.append(img_flat)\n",
        "            # Menyaring label berdasarkan nama folder\n",
        "            label = \"unknown\"\n",
        "            if \"Aluvial\" in folder:\n",
        "                label = \"aluvial\"\n",
        "            elif \"Vulkanik\" in folder:\n",
        "                label = \"vulkanik\"\n",
        "            elif \"Humus\" in folder:\n",
        "                label = \"humus\"\n",
        "            elif \"Latosol\" in folder:\n",
        "                label = \"latosol\"\n",
        "            elif \"Andosol\" in folder:\n",
        "                label = \"andosol\"\n",
        "            labels.append(label)\n",
        "    return images, labels\n",
        "\n",
        "# Path ke direktori yang berisi kategori-kategori tanah\n",
        "base_dir = \"drive/MyDrive/tanahore3/\"\n",
        "\n",
        "# Memuat gambar dari folder masing-masing kategori\n",
        "alluvial_images, alluvial_labels = load_images_from_folder(os.path.join(base_dir, \"Aluvial\"))\n",
        "vulkanik_images, vulkanik_labels = load_images_from_folder(os.path.join(base_dir, \"Vulkanik\"))\n",
        "humus_images, humus_labels = load_images_from_folder(os.path.join(base_dir, \"Humus\"))\n",
        "latosol_images, latosol_labels = load_images_from_folder(os.path.join(base_dir, \"Latosol\"))\n",
        "andosol_images, andosol_labels = load_images_from_folder(os.path.join(base_dir, \"Andosol\"))\n",
        "unknown_images, unknown_labels = load_images_from_folder(os.path.join(base_dir, \"Unknown\"))\n",
        "\n",
        "# Menggabungkan gambar dan label dari kategori-kategori yang ada\n",
        "images_list = [alluvial_images, vulkanik_images, humus_images, latosol_images, andosol_images]\n",
        "labels_list = [alluvial_labels, vulkanik_labels, humus_labels, latosol_labels, andosol_labels]\n",
        "\n",
        "# Filter gambar dan label \"unknown\" yang tidak kosong\n",
        "if unknown_images:\n",
        "    images_list.append(unknown_images)\n",
        "    labels_list.append(unknown_labels)\n",
        "\n",
        "# Menggabungkan gambar dan label dari semua kategori yang ada\n",
        "images = np.concatenate(images_list)\n",
        "labels = np.concatenate(labels_list)\n",
        "\n",
        "# Memisahkan data menjadi data latih dan data uji\n",
        "X_train, X_test, y_train, y_test = train_test_split(images, labels, test_size=0.2, random_state=42)\n",
        "\n",
        "# Melatih model SVM\n",
        "model = SVC(kernel='linear')\n",
        "model.fit(X_train, y_train)\n",
        "\n",
        "# Memprediksi label untuk data uji\n",
        "y_pred = model.predict(X_test)\n",
        "\n",
        "# Menghitung akurasi\n",
        "accuracy = accuracy_score(y_test, y_pred)\n",
        "print(\"Akurasi:\", accuracy)\n",
        "\n",
        "# Simpan model ke file\n",
        "filename = 'svm_model.sav'\n",
        "joblib.dump(model, filename)\n",
        "\n",
        "print(\"Model telah disimpan sebagai\", filename)\n",
        "\n"
      ]
    }
  ]
}